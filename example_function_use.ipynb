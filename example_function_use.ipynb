{
 "cells": [
  {
   "cell_type": "code",
   "execution_count": 1,
   "metadata": {},
   "outputs": [],
   "source": [
    "import numpy as np\n",
    "import pandas as pd\n",
    "from steady_BEM import steady_BEM\n"
   ]
  },
  {
   "cell_type": "code",
   "execution_count": null,
   "metadata": {},
   "outputs": [
    {
     "name": "stdout",
     "output_type": "stream",
     "text": [
      "we are at 0 iterations\n",
      "we are at 20 iterations\n",
      "we are at 40 iterations\n",
      "we are at 60 iterations\n",
      "WARNING: BEM model did not converge within 1000 iterations, consider increasing iteration amount.\n",
      "we are at 80 iterations\n",
      "we are at 100 iterations\n",
      "we are at 120 iterations\n",
      "we are at 140 iterations\n",
      "we are at 160 iterations\n",
      "WARNING: BEM model did not converge within 1000 iterations, consider increasing iteration amount.\n",
      "WARNING: BEM model did not converge within 1000 iterations, consider increasing iteration amount.\n",
      "WARNING: BEM model did not converge within 1000 iterations, consider increasing iteration amount.\n",
      "WARNING: BEM model did not converge within 1000 iterations, consider increasing iteration amount.\n",
      "WARNING: BEM model did not converge within 1000 iterations, consider increasing iteration amount.\n",
      "WARNING: BEM model did not converge within 1000 iterations, consider increasing iteration amount.\n",
      "WARNING: BEM model did not converge within 1000 iterations, consider increasing iteration amount.\n",
      "WARNING: BEM model did not converge within 1000 iterations, consider increasing iteration amount.\n",
      "WARNING: BEM model did not converge within 1000 iterations, consider increasing iteration amount.\n",
      "WARNING: BEM model did not converge within 1000 iterations, consider increasing iteration amount.\n",
      "WARNING: BEM model did not converge within 1000 iterations, consider increasing iteration amount.\n",
      "WARNING: BEM model did not converge within 1000 iterations, consider increasing iteration amount.\n",
      "WARNING: BEM model did not converge within 1000 iterations, consider increasing iteration amount.\n",
      "WARNING: BEM model did not converge within 1000 iterations, consider increasing iteration amount.\n",
      "WARNING: BEM model did not converge within 1000 iterations, consider increasing iteration amount.\n",
      "WARNING: BEM model did not converge within 1000 iterations, consider increasing iteration amount.\n",
      "WARNING: BEM model did not converge within 1000 iterations, consider increasing iteration amount.\n",
      "WARNING: BEM model did not converge within 1000 iterations, consider increasing iteration amount.\n",
      "we are at 180 iterations\n",
      "WARNING: BEM model did not converge within 1000 iterations, consider increasing iteration amount.\n"
     ]
    }
   ],
   "source": [
    "# define flow conditions\n",
    "Uinf = 10 # unperturbed wind speed in m/s\n",
    "TSR = 10 # tip speed ratio\n",
    "Radius = 50\n",
    "N_blade_sec = 30\n",
    "NBlades = 3\n",
    "\n",
    "TipLocation_R =  1\n",
    "RootLocation_R =  0.2\n",
    "pitch = 2\n",
    "\n",
    "airfoil = 'DU_polar.txt'\n",
    "\n",
    "B = steady_BEM(airfoil, TipLocation_R, RootLocation_R, NBlades, Radius, Uinf, TSR, N_blade_sec)\n",
    "CT,CP, results = B.get_solution(pitch)\n",
    "print('CT: {}'.format(CT))\n",
    "print('CP: {}'.format(CP))\n",
    "    "
   ]
  },
  {
   "cell_type": "code",
   "execution_count": 3,
   "metadata": {},
   "outputs": [
    {
     "ename": "NameError",
     "evalue": "name 'B' is not defined",
     "output_type": "error",
     "traceback": [
      "\u001b[1;31m---------------------------------------------------------------------------\u001b[0m",
      "\u001b[1;31mNameError\u001b[0m                                 Traceback (most recent call last)",
      "\u001b[1;32m<ipython-input-3-4b98267f93d8>\u001b[0m in \u001b[0;36m<module>\u001b[1;34m\u001b[0m\n\u001b[1;32m----> 1\u001b[1;33m \u001b[0mB\u001b[0m\u001b[1;33m.\u001b[0m\u001b[0mfind_pitch\u001b[0m\u001b[1;33m(\u001b[0m\u001b[0mCT\u001b[0m\u001b[1;33m=\u001b[0m\u001b[1;36m0.5\u001b[0m\u001b[1;33m)\u001b[0m\u001b[1;33m\u001b[0m\u001b[1;33m\u001b[0m\u001b[0m\n\u001b[0m",
      "\u001b[1;31mNameError\u001b[0m: name 'B' is not defined"
     ]
    }
   ],
   "source": [
    "B.find_pitch(CT=0.5)"
   ]
  },
  {
   "cell_type": "code",
   "execution_count": 20,
   "metadata": {},
   "outputs": [
    {
     "data": {
      "text/plain": [
       "{'airfoil': 'DU_polar.txt',\n",
       " 'NBlades': 3,\n",
       " 'Radius': 50,\n",
       " 'Uinf': 10,\n",
       " 'Omega': 2.0,\n",
       " 'N_blade_sec': 30,\n",
       " 'RootLocation_R': 0.2,\n",
       " 'TipLocation_R': 1,\n",
       " 'r_R_dist': array([0.2       , 0.20219124, 0.20874096, 0.21957739, 0.23458182,\n",
       "        0.25358984, 0.2763932 , 0.30274207, 0.33234776, 0.3648859 ,\n",
       "        0.4       , 0.43730534, 0.4763932 , 0.51683532, 0.55818861,\n",
       "        0.6       , 0.64181139, 0.68316468, 0.7236068 , 0.76269466,\n",
       "        0.8       , 0.8351141 , 0.86765224, 0.89725793, 0.9236068 ,\n",
       "        0.94641016, 0.96541818, 0.98042261, 0.99125904, 0.99780876,\n",
       "        1.        ]),\n",
       " 'r_R_cent': array([0.20109562, 0.2054661 , 0.21415918, 0.22707961, 0.24408583,\n",
       "        0.26499152, 0.28956764, 0.31754491, 0.34861683, 0.38244295,\n",
       "        0.41865267, 0.45684927, 0.49661426, 0.53751197, 0.57909431,\n",
       "        0.62090569, 0.66248803, 0.70338574, 0.74315073, 0.78134733,\n",
       "        0.81755705, 0.85138317, 0.88245509, 0.91043236, 0.93500848,\n",
       "        0.95591417, 0.97292039, 0.98584082, 0.9945339 , 0.99890438]),\n",
       " 'twist_no_pitch': array([-11.18466131, -11.12347459, -11.00177153, -10.82088553,\n",
       "        -10.58279841, -10.29011871,  -9.9460531 ,  -9.55437121,\n",
       "         -9.1193644 ,  -8.64579871,  -8.1388626 ,  -7.60411018,\n",
       "         -7.04740032,  -6.47483243,  -5.8926797 ,  -5.3073203 ,\n",
       "         -4.72516757,  -4.15259968,  -3.59588982,  -3.0611374 ,\n",
       "         -2.55420129,  -2.0806356 ,  -1.64562879,  -1.2539469 ,\n",
       "         -0.90988129,  -0.61720159,  -0.37911447,  -0.19822847,\n",
       "         -0.07652541,  -0.01533869]),\n",
       " 'chord_cent': array([3.39671314, 3.3836017 , 3.35752247, 3.31876118, 3.26774252,\n",
       "        3.20502544, 3.13129709, 3.04736526, 2.95414952, 2.85267115,\n",
       "        2.74404199, 2.62945218, 2.51015721, 2.38746409, 2.26271708,\n",
       "        2.13728292, 2.01253591, 1.88984279, 1.77054782, 1.65595801,\n",
       "        1.54732885, 1.44585048, 1.35263474, 1.26870291, 1.19497456,\n",
       "        1.13225748, 1.08123882, 1.04247753, 1.0163983 , 1.00328686]),\n",
       " 'polar_alpha': 0    -16.06\n",
       " 1    -15.51\n",
       " 2    -15.06\n",
       " 3    -14.59\n",
       " 4    -14.11\n",
       "       ...  \n",
       " 56    26.06\n",
       " 57    27.06\n",
       " 58    28.06\n",
       " 59    29.06\n",
       " 60    30.06\n",
       " Name: alfa, Length: 61, dtype: float64,\n",
       " 'polar_cl': 0    -0.425\n",
       " 1    -0.430\n",
       " 2    -0.461\n",
       " 3    -0.496\n",
       " 4    -0.567\n",
       "       ...  \n",
       " 56    0.890\n",
       " 57    0.953\n",
       " 58    0.976\n",
       " 59    1.016\n",
       " 60    1.041\n",
       " Name: cl, Length: 61, dtype: float64,\n",
       " 'polar_cd': 0     0.22486\n",
       " 1     0.21656\n",
       " 2     0.21133\n",
       " 3     0.20807\n",
       " 4     0.20143\n",
       "        ...   \n",
       " 56    0.49140\n",
       " 57    0.54150\n",
       " 58    0.57360\n",
       " 59    0.61560\n",
       " 60    0.65190\n",
       " Name: cd, Length: 61, dtype: float64,\n",
       " 'twist_cent': array([-9.18466131, -9.12347459, -9.00177153, -8.82088553, -8.58279841,\n",
       "        -8.29011871, -7.9460531 , -7.55437121, -7.1193644 , -6.64579871,\n",
       "        -6.1388626 , -5.60411018, -5.04740032, -4.47483243, -3.8926797 ,\n",
       "        -3.3073203 , -2.72516757, -2.15259968, -1.59588982, -1.0611374 ,\n",
       "        -0.55420129, -0.0806356 ,  0.35437121,  0.7460531 ,  1.09011871,\n",
       "         1.38279841,  1.62088553,  1.80177153,  1.92347459,  1.98466131])}"
      ]
     },
     "execution_count": 20,
     "metadata": {},
     "output_type": "execute_result"
    }
   ],
   "source": [
    "B.__dict__"
   ]
  },
  {
   "cell_type": "code",
   "execution_count": null,
   "metadata": {},
   "outputs": [],
   "source": []
  }
 ],
 "metadata": {
  "kernelspec": {
   "display_name": "Python 3",
   "language": "python",
   "name": "python3"
  },
  "language_info": {
   "codemirror_mode": {
    "name": "ipython",
    "version": 3
   },
   "file_extension": ".py",
   "mimetype": "text/x-python",
   "name": "python",
   "nbconvert_exporter": "python",
   "pygments_lexer": "ipython3",
   "version": "3.7.7"
  }
 },
 "nbformat": 4,
 "nbformat_minor": 2
}
