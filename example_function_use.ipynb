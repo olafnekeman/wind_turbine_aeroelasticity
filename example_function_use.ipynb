{
 "cells": [
  {
   "cell_type": "code",
   "execution_count": 1,
   "metadata": {},
   "outputs": [],
   "source": [
    "import numpy as np\n",
    "import pandas as pd\n",
    "from steady_BEM import steady_BEM\n"
   ]
  },
  {
   "cell_type": "code",
   "execution_count": 2,
   "metadata": {},
   "outputs": [
    {
     "name": "stdout",
     "output_type": "stream",
     "text": [
      "WARNING: BEM model did not converge within 1000 iterations, consider increasing iteration amount.\n",
      "WARNING: BEM model did not converge within 1000 iterations, consider increasing iteration amount.\n",
      "WARNING: BEM model did not converge within 1000 iterations, consider increasing iteration amount.\n",
      "WARNING: BEM model did not converge within 1000 iterations, consider increasing iteration amount.\n",
      "WARNING: BEM model did not converge within 1000 iterations, consider increasing iteration amount.\n",
      "WARNING: BEM model did not converge within 1000 iterations, consider increasing iteration amount.\n",
      "WARNING: BEM model did not converge within 1000 iterations, consider increasing iteration amount.\n",
      "WARNING: BEM model did not converge within 1000 iterations, consider increasing iteration amount.\n",
      "WARNING: BEM model did not converge within 1000 iterations, consider increasing iteration amount.\n",
      "WARNING: BEM model did not converge within 1000 iterations, consider increasing iteration amount.\n",
      "WARNING: BEM model did not converge within 1000 iterations, consider increasing iteration amount.\n",
      "WARNING: BEM model did not converge within 1000 iterations, consider increasing iteration amount.\n",
      "WARNING: BEM model did not converge within 1000 iterations, consider increasing iteration amount.\n",
      "WARNING: BEM model did not converge within 1000 iterations, consider increasing iteration amount.\n",
      "WARNING: BEM model did not converge within 1000 iterations, consider increasing iteration amount.\n",
      "WARNING: BEM model did not converge within 1000 iterations, consider increasing iteration amount.\n",
      "WARNING: BEM model did not converge within 1000 iterations, consider increasing iteration amount.\n",
      "WARNING: BEM model did not converge within 1000 iterations, consider increasing iteration amount.\n",
      "WARNING: BEM model did not converge within 1000 iterations, consider increasing iteration amount.\n",
      "WARNING: BEM model did not converge within 1000 iterations, consider increasing iteration amount.\n",
      "WARNING: BEM model did not converge within 1000 iterations, consider increasing iteration amount.\n",
      "WARNING: BEM model did not converge within 1000 iterations, consider increasing iteration amount.\n",
      "WARNING: BEM model did not converge within 1000 iterations, consider increasing iteration amount.\n",
      "WARNING: BEM model did not converge within 1000 iterations, consider increasing iteration amount.\n",
      "WARNING: BEM model did not converge within 1000 iterations, consider increasing iteration amount.\n",
      "WARNING: BEM model did not converge within 1000 iterations, consider increasing iteration amount.\n",
      "WARNING: BEM model did not converge within 1000 iterations, consider increasing iteration amount.\n",
      "WARNING: BEM model did not converge within 1000 iterations, consider increasing iteration amount.\n",
      "WARNING: BEM model did not converge within 1000 iterations, consider increasing iteration amount.\n",
      "WARNING: BEM model did not converge within 1000 iterations, consider increasing iteration amount.\n",
      "WARNING: BEM model did not converge within 1000 iterations, consider increasing iteration amount.\n",
      "WARNING: BEM model did not converge within 1000 iterations, consider increasing iteration amount.\n",
      "WARNING: BEM model did not converge within 1000 iterations, consider increasing iteration amount.\n",
      "WARNING: BEM model did not converge within 1000 iterations, consider increasing iteration amount.\n",
      "WARNING: BEM model did not converge within 1000 iterations, consider increasing iteration amount.\n",
      "WARNING: BEM model did not converge within 1000 iterations, consider increasing iteration amount.\n",
      "WARNING: BEM model did not converge within 1000 iterations, consider increasing iteration amount.\n",
      "WARNING: BEM model did not converge within 1000 iterations, consider increasing iteration amount.\n",
      "WARNING: BEM model did not converge within 1000 iterations, consider increasing iteration amount.\n",
      "WARNING: BEM model did not converge within 1000 iterations, consider increasing iteration amount.\n",
      "WARNING: BEM model did not converge within 1000 iterations, consider increasing iteration amount.\n",
      "CT: 0.763906108007987\n",
      "CP: 0.4579578167787593\n"
     ]
    }
   ],
   "source": [
    "# define flow conditions\n",
    "Uinf = 10 # unperturbed wind speed in m/s\n",
    "TSR = 10 # tip speed ratio\n",
    "Radius = 50\n",
    "N_blade_sec = 30\n",
    "NBlades = 3\n",
    "\n",
    "TipLocation_R =  1\n",
    "RootLocation_R =  0.2\n",
    "pitch = 2\n",
    "\n",
    "airfoil = 'DU_polar.txt'\n",
    "\n",
    "B = steady_BEM(airfoil, TipLocation_R, RootLocation_R, NBlades, Radius, Uinf, TSR, N_blade_sec)\n",
    "CT,CP, results = B.get_solution(pitch)\n",
    "print('CT: {}'.format(CT))\n",
    "print('CP: {}'.format(CP))\n",
    "    "
   ]
  },
  {
   "cell_type": "code",
   "execution_count": 3,
   "metadata": {},
   "outputs": [
    {
     "data": {
      "text/plain": [
       "3.97"
      ]
     },
     "execution_count": 3,
     "metadata": {},
     "output_type": "execute_result"
    }
   ],
   "source": []
  },
  {
   "cell_type": "code",
   "execution_count": null,
   "metadata": {},
   "outputs": [],
   "source": [
    "\n"
   ]
  },
  {
   "cell_type": "code",
   "execution_count": null,
   "metadata": {},
   "outputs": [],
   "source": []
  }
 ],
 "metadata": {
  "kernelspec": {
   "display_name": "Python 3",
   "language": "python",
   "name": "python3"
  },
  "language_info": {
   "codemirror_mode": {
    "name": "ipython",
    "version": 3
   },
   "file_extension": ".py",
   "mimetype": "text/x-python",
   "name": "python",
   "nbconvert_exporter": "python",
   "pygments_lexer": "ipython3",
   "version": "3.7.7"
  }
 },
 "nbformat": 4,
 "nbformat_minor": 2
}
