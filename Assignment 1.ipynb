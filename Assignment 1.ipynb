{
 "cells": [
  {
   "cell_type": "code",
   "execution_count": 2,
   "metadata": {},
   "outputs": [],
   "source": [
    "import numpy as np\n",
    "import matplotlib.pyplot as plt\n",
    "import pandas as pd"
   ]
  },
  {
   "cell_type": "code",
   "execution_count": 3,
   "metadata": {},
   "outputs": [],
   "source": [
    "def CTfunction(a, glauert = False):\n",
    "    \"\"\"\n",
    "    This function calculates the thrust coefficient as a function of induction factor 'a'\n",
    "    'glauert' defines if the Glauert correction for heavily loaded rotors should be used; default value is false\n",
    "    \"\"\"\n",
    "    CT = np.zeros(np.shape(a))\n",
    "    CT = 4*a*(1-a)  \n",
    "    if glauert:\n",
    "        CT1=1.816;\n",
    "        a1=1-np.sqrt(CT1)/2;\n",
    "        CT[a>a1] = CT1-4*(np.sqrt(CT1)-1)*(1-a[a>a1])\n",
    "    \n",
    "    return CT  \n",
    "\n",
    "def ainduction(CT):\n",
    "    \"\"\"\n",
    "    This function calculates the induction factor 'a' as a function of thrust coefficient CT \n",
    "    including Glauert's correction\n",
    "    \"\"\"\n",
    "    a = np.zeros(np.shape(CT))\n",
    "    CT1=1.816;\n",
    "    CT2=2*np.sqrt(CT1)-CT1\n",
    "    a[CT>=CT2] = 1 + (CT[CT>=CT2]-CT1)/(4*(np.sqrt(CT1)-1))\n",
    "    a[CT<CT2] = 0.5-0.5*np.sqrt(1-CT[CT<CT2])\n",
    "    return a\n",
    "\n",
    "def PrandtlTipRootCorrection(r_R, rootradius_R, tipradius_R, TSR, NBlades, axial_induction):\n",
    "    \"\"\"\n",
    "    This function calcualte steh combined tip and root Prandtl correction at agiven radial position 'r_R' (non-dimensioned by rotor radius), \n",
    "    given a root and tip radius (also non-dimensioned), a tip speed ratio TSR, the number lf blades NBlades and the axial induction factor\n",
    "    \"\"\"\n",
    "    temp1 = -NBlades/2*(tipradius_R-r_R)/r_R*np.sqrt( 1+ ((TSR*r_R)**2)/((1-axial_induction)**2))\n",
    "    Ftip = np.array(2/np.pi*np.arccos(np.exp(temp1)))\n",
    "    Ftip[np.isnan(Ftip)] = 0\n",
    "    temp1 = NBlades/2*(rootradius_R-r_R)/r_R*np.sqrt( 1+ ((TSR*r_R)**2)/((1-axial_induction)**2))\n",
    "    Froot = np.array(2/np.pi*np.arccos(np.exp(temp1)))\n",
    "    Froot[np.isnan(Froot)] = 0\n",
    "    return Froot*Ftip, Ftip, Froot\n",
    "\n",
    "def loadBladeElement(vnorm, vtan, r_R, chord, twist, polar_alpha, polar_cl, polar_cd):\n",
    "    \"\"\"\n",
    "    calculates the load in the blade element\n",
    "    \"\"\"\n",
    "    vmag2 = vnorm**2 + vtan**2\n",
    "    inflowangle = np.arctan2(vnorm,vtan)\n",
    "    alpha = twist + inflowangle*180/np.pi\n",
    "    cl = np.interp(alpha, polar_alpha, polar_cl)\n",
    "    cd = np.interp(alpha, polar_alpha, polar_cd)\n",
    "    lift = 0.5*vmag2*cl*chord\n",
    "    drag = 0.5*vmag2*cd*chord\n",
    "    fnorm = lift*np.cos(inflowangle)+drag*np.sin(inflowangle)\n",
    "    ftan = lift*np.sin(inflowangle)-drag*np.cos(inflowangle)\n",
    "    gamma = 0.5*np.sqrt(vmag2)*cl*chord\n",
    "    return fnorm , ftan, gamma\n",
    "\n",
    "def solveStreamtube(Uinf, r1_R, r2_R, rootradius_R, tipradius_R , Omega, Radius, NBlades, chord, twist, polar_alpha, polar_cl, polar_cd ):\n",
    "    \"\"\"\n",
    "    solve balance of momentum between blade element load and loading in the streamtube\n",
    "    input variables:\n",
    "    Uinf - wind speed at infinity\n",
    "    r1_R,r2_R - edges of blade element, in fraction of Radius ;\n",
    "    rootradius_R, tipradius_R - location of blade root and tip, in fraction of Radius ;\n",
    "    Radius is the rotor radius\n",
    "    Omega -rotational velocity\n",
    "    NBlades - number of blades in rotor\n",
    "    \"\"\"\n",
    "    Area = np.pi*((r2_R*Radius)**2-(r1_R*Radius)**2) #  area streamtube\n",
    "    r_R = (r1_R+r2_R)/2 # centroide\n",
    "    # initiatlize variables\n",
    "    a = 0.0 # axial induction\n",
    "    aline = 0.0 # tangential induction factor\n",
    "    \n",
    "    Niterations = 100\n",
    "    Erroriterations =0.00001 # error limit for iteration rpocess, in absolute value of induction\n",
    "    \n",
    "    for i in range(Niterations):\n",
    "        # ///////////////////////////////////////////////////////////////////////\n",
    "        # // this is the block \"Calculate velocity and loads at blade element\"\n",
    "        # ///////////////////////////////////////////////////////////////////////\n",
    "        Urotor = Uinf*(1-a) # axial velocity at rotor\n",
    "        Utan = (1+aline)*Omega*r_R*Radius # tangential velocity at rotor\n",
    "        # calculate loads in blade segment in 2D (N/m)\n",
    "        fnorm, ftan, gamma = loadBladeElement(Urotor, Utan, r_R,chord, twist, polar_alpha, polar_cl, polar_cd)\n",
    "        load3Daxial =fnorm*Radius*(r2_R-r1_R)*NBlades # 3D force in axial direction\n",
    "        # load3Dtan =loads[1]*Radius*(r2_R-r1_R)*NBlades # 3D force in azimuthal/tangential direction (not used here)\n",
    "      \n",
    "        # ///////////////////////////////////////////////////////////////////////\n",
    "        # //the block \"Calculate velocity and loads at blade element\" is done\n",
    "        # ///////////////////////////////////////////////////////////////////////\n",
    "\n",
    "        # ///////////////////////////////////////////////////////////////////////\n",
    "        # // this is the block \"Calculate new estimate of axial and azimuthal induction\"\n",
    "        # ///////////////////////////////////////////////////////////////////////\n",
    "        # // calculate thrust coefficient at the streamtube \n",
    "        CT = load3Daxial/(0.5*Area*Uinf**2)\n",
    "        \n",
    "        # calculate new axial induction, accounting for Glauert's correction\n",
    "        anew =  ainduction(CT)\n",
    "        \n",
    "        # correct new axial induction with Prandtl's correction\n",
    "        Prandtl, Prandtltip, Prandtlroot = PrandtlTipRootCorrection(r_R, rootradius_R, tipradius_R, Omega*Radius/Uinf, NBlades, anew);\n",
    "        if (Prandtl < 0.0001): \n",
    "            Prandtl = 0.0001 # avoid divide by zero\n",
    "        anew = anew/Prandtl # correct estimate of axial induction\n",
    "        a = 0.75*a+0.25*anew # for improving convergence, weigh current and previous iteration of axial induction\n",
    "\n",
    "        # calculate aximuthal induction\n",
    "        aline = ftan*NBlades/(2*np.pi*Uinf*(1-a)*Omega*2*(r_R*Radius)**2)\n",
    "        aline =aline/Prandtl # correct estimate of azimuthal induction with Prandtl's correction\n",
    "        # ///////////////////////////////////////////////////////////////////////////\n",
    "        # // end of the block \"Calculate new estimate of axial and azimuthal induction\"\n",
    "        # ///////////////////////////////////////////////////////////////////////\n",
    "        \n",
    "        #// test convergence of solution, by checking convergence of axial induction\n",
    "        if (np.abs(a-anew) < Erroriterations): \n",
    "            # print(\"iterations\")\n",
    "            # print(i)\n",
    "            break\n",
    "\n",
    "    return [a , aline, r_R, fnorm , ftan, gamma]"
   ]
  },
  {
   "cell_type": "code",
   "execution_count": 4,
   "metadata": {},
   "outputs": [],
   "source": [
    "# import polar\n",
    "airfoil = 'DU_polar.txt'\n",
    "\n",
    "data1=pd.read_csv(airfoil, header=0,\n",
    "                    names = [\"alfa\", \"cl\", \"cd\", \"cm\"],  sep='\\s+')\n",
    "polar_alpha = data1['alfa'][:]\n",
    "polar_cl = data1['cl'][:]\n",
    "polar_cd = data1['cd'][:]\n"
   ]
  },
  {
   "cell_type": "code",
   "execution_count": 47,
   "metadata": {},
   "outputs": [],
   "source": [
    "# define the blade geometry\n",
    "delta_r_R = .01\n",
    "r_R = np.arange(0.2, 1+delta_r_R/2, delta_r_R)\n",
    "\n",
    "# blade shape\n",
    "pitch = 2 # degrees\n",
    "chord_distribution = 3*(1-r_R)+1 # meters\n",
    "twist_distribution = -14*(1-r_R)+pitch # degrees\n",
    "\n",
    "# define flow conditions\n",
    "Uinf = 1 # unperturbed wind speed in m/s\n",
    "TSR = 10 # tip speed ratio\n",
    "Radius = 50\n",
    "Omega = Uinf*TSR/Radius\n",
    "NBlades = 3\n",
    "\n",
    "TipLocation_R =  1\n",
    "RootLocation_R =  0.2\n",
    "\n",
    "\n",
    "# solve BEM model\n",
    "\n",
    "\n",
    "results =np.zeros([len(r_R)-1,6])\n",
    "\n",
    "for i in range(len(r_R)-1):\n",
    "    chord = np.interp((r_R[i]+r_R[i+1])/2, r_R, chord_distribution)\n",
    "    twist = np.interp((r_R[i]+r_R[i+1])/2, r_R, twist_distribution)\n",
    "\n",
    "    results[i,:] = solveStreamtube(Uinf, r_R[i], r_R[i+1], RootLocation_R, TipLocation_R , Omega, Radius, NBlades, chord, twist, polar_alpha, polar_cl, polar_cd )\n",
    "\n",
    "\n"
   ]
  },
  {
   "cell_type": "code",
   "execution_count": 48,
   "metadata": {},
   "outputs": [
    {
     "name": "stdout",
     "output_type": "stream",
     "text": [
      "CT = 0.764441996218922\n",
      "CP = 0.4580635216836007\n"
     ]
    }
   ],
   "source": [
    "areas = (r_R[1:]**2-r_R[:-1]**2)*np.pi*Radius**2\n",
    "dr = (r_R[1:]-r_R[:-1])*Radius\n",
    "CT = np.sum(dr*results[:,3]*NBlades/(0.5*Uinf**2*np.pi*Radius**2))\n",
    "CP = np.sum(dr*results[:,4]*results[:,2]*NBlades*Radius*Omega/(0.5*Uinf**3*np.pi*Radius**2))\n",
    "\n",
    "print(\"CT = {}\".format(CT))\n",
    "print(\"CP = {}\".format(CP))"
   ]
  },
  {
   "cell_type": "markdown",
   "metadata": {},
   "source": [
    "# Finds pitch angles to CT values"
   ]
  },
  {
   "cell_type": "code",
   "execution_count": 60,
   "metadata": {},
   "outputs": [
    {
     "name": "stdout",
     "output_type": "stream",
     "text": [
      "we are at 0 iterations\n",
      "we are at 20 iterations\n",
      "we are at 40 iterations\n",
      "we are at 60 iterations\n",
      "we are at 80 iterations\n",
      "we are at 100 iterations\n",
      "we are at 120 iterations\n",
      "we are at 140 iterations\n",
      "we are at 160 iterations\n",
      "we are at 180 iterations\n"
     ]
    },
    {
     "data": {
      "text/plain": [
       "[<matplotlib.lines.Line2D at 0x204f5f03d48>]"
      ]
     },
     "execution_count": 60,
     "metadata": {},
     "output_type": "execute_result"
    },
    {
     "data": {
      "image/png": "[encoded data removed]",
      "text/plain": [
       "<Figure size 432x288 with 1 Axes>"
      ]
     },
     "metadata": {
      "needs_background": "light"
     },
     "output_type": "display_data"
    }
   ],
   "source": [
    "# solve BEM model\n",
    "def find_pitch_ct(resolution=0.1):\n",
    "\n",
    "    \"returns an np.array([pitch, CT, CP]) values.\"\n",
    "    \n",
    "    # define the blade geometry\n",
    "    delta_r_R = .01\n",
    "    r_R = np.arange(0.2, 1+delta_r_R/2, delta_r_R)\n",
    "\n",
    "    # blade shape\n",
    "    pitch = 2 # degrees\n",
    "    chord_distribution = 3*(1-r_R)+1 # meters\n",
    "    twist_distribution = -14*(1-r_R)+pitch # degrees\n",
    "\n",
    "    # define flow conditions\n",
    "    Uinf = 1 # unperturbed wind speed in m/s\n",
    "    TSR = 10 # tip speed ratio\n",
    "    Radius = 50\n",
    "    Omega = Uinf*TSR/Radius\n",
    "    NBlades = 3\n",
    "\n",
    "    TipLocation_R =  1\n",
    "    RootLocation_R =  0.2\n",
    "    pitch_range = np.arange(-5, 15, resolution)\n",
    "    pitch_ct = np.zeros([len(pitch_range),3])\n",
    "\n",
    "    for j, pitch in enumerate(pitch_range):\n",
    "        results =np.zeros([len(r_R)-1,6])\n",
    "        twist_distribution = 14*(1-r_R)+pitch # degrees\n",
    "        for i in range(len(r_R)-1):\n",
    "            chord = np.interp((r_R[i]+r_R[i+1])/2, r_R, chord_distribution)\n",
    "            twist = np.interp((r_R[i]+r_R[i+1])/2, r_R, twist_distribution)\n",
    "\n",
    "            results[i,:] = solveStreamtube(Uinf, r_R[i], r_R[i+1], RootLocation_R, TipLocation_R , Omega, Radius, NBlades, chord, twist, polar_alpha, polar_cl, polar_cd )\n",
    "\n",
    "        areas = (r_R[1:]**2-r_R[:-1]**2)*np.pi*Radius**2\n",
    "        dr = (r_R[1:]-r_R[:-1])*Radius\n",
    "        CT = np.sum(dr*results[:,3]*NBlades/(0.5*Uinf**2*np.pi*Radius**2))\n",
    "        CP = np.sum(dr*results[:,4]*results[:,2]*NBlades*Radius*Omega/(0.5*Uinf**3*np.pi*Radius**2))\n",
    "        pitch_ct[j,:] = (pitch, CT, CP)\n",
    "        if j%20==0:\n",
    "            print('we are at {} iterations'.format(j))\n",
    "    return pitch_ct\n",
    "pitch_ct = find_pitch_ct\n",
    "plt.figure()\n",
    "plt.plot(pitch_ct[:,0], pitch_ct[:,1])"
   ]
  },
  {
   "cell_type": "code",
   "execution_count": 61,
   "metadata": {},
   "outputs": [],
   "source": [
    "# TO DO: find pitch angles to its respective CT value\n",
    "def find_nearest_pitch(array, CT):\n",
    "    return round(np.interp(CT, array[:,1], array[:,0]), 3)\n",
    " "
   ]
  },
  {
   "cell_type": "code",
   "execution_count": 62,
   "metadata": {},
   "outputs": [
    {
     "data": {
      "text/plain": [
       "-5.0"
      ]
     },
     "execution_count": 62,
     "metadata": {},
     "output_type": "execute_result"
    }
   ],
   "source": [
    "find_nearest_pitch(pitch_ct, 0.5)"
   ]
  },
  {
   "cell_type": "code",
   "execution_count": 50,
   "metadata": {},
   "outputs": [
    {
     "data": {
      "text/plain": [
       "-0.06243347684254697"
      ]
     },
     "execution_count": 50,
     "metadata": {},
     "output_type": "execute_result"
    }
   ],
   "source": []
  },
  {
   "cell_type": "markdown",
   "metadata": {},
   "source": [
    "# Pitt-Peters model"
   ]
  },
  {
   "cell_type": "code",
   "execution_count": null,
   "metadata": {},
   "outputs": [],
   "source": []
  },
  {
   "cell_type": "markdown",
   "metadata": {},
   "source": [
    "# Oye dynamic inflow"
   ]
  },
  {
   "cell_type": "code",
   "execution_count": null,
   "metadata": {},
   "outputs": [],
   "source": []
  },
  {
   "cell_type": "markdown",
   "metadata": {},
   "source": [
    "# Larsen-Madsen model"
   ]
  },
  {
   "cell_type": "code",
   "execution_count": null,
   "metadata": {},
   "outputs": [],
   "source": []
  },
  {
   "cell_type": "code",
   "execution_count": null,
   "metadata": {},
   "outputs": [],
   "source": []
  }
 ],
 "metadata": {
  "kernelspec": {
   "display_name": "Python 3",
   "language": "python",
   "name": "python3"
  },
  "language_info": {
   "codemirror_mode": {
    "name": "ipython",
    "version": 3
   },
   "file_extension": ".py",
   "mimetype": "text/x-python",
   "name": "python",
   "nbconvert_exporter": "python",
   "pygments_lexer": "ipython3",
   "version": "3.7.7"
  }
 },
 "nbformat": 4,
 "nbformat_minor": 4
}
